{
 "cells": [
  {
   "cell_type": "code",
   "execution_count": 1,
   "metadata": {},
   "outputs": [],
   "source": [
    "import numpy as np\n",
    "import matplotlib.pyplot as plt\n",
    "%matplotlib inline"
   ]
  },
  {
   "cell_type": "code",
   "execution_count": 2,
   "metadata": {},
   "outputs": [],
   "source": [
    "def get_data_from(file_dir):\n",
    "    data = np.loadtxt(file_dir, delimiter=',')\n",
    "    x = np.array([[1, features[0], features[-1]] for features in data[:, :2]])\n",
    "    y = np.array(data[:, -1])\n",
    "    return x, y\n",
    "\n",
    "\n",
    "def normalize_features(data):\n",
    "    mean = np.mean(data, axis=0)\n",
    "    deviation = np.std(data, axis=0)\n",
    "    standarized_data = data.copy()\n",
    "    for features in standarized_data:\n",
    "        for i in range(len(features)):\n",
    "            if i == 0:\n",
    "                pass\n",
    "            else:\n",
    "                features[i] = (features[i] - mean[i]) / deviation[i]\n",
    "\n",
    "    return standarized_data\n",
    "\n",
    "\n",
    "def compute_cost(features, labels, parameters):\n",
    "    m = labels.size\n",
    "    h_x = np.dot(features, parameters)\n",
    "    cost = (1 / (2 * m)) * sum(np.square(h_x - labels))\n",
    "    return cost\n",
    "\n",
    "\n",
    "def gradient_descent(features, labels, epochs, learning_rate):\n",
    "    J = []\n",
    "    m = labels.size\n",
    "    thetas = np.random.random(size=features[0, :].shape)\n",
    "    for _ in range(epochs):\n",
    "        h_x = np.dot(features, thetas)\n",
    "        for i in range(len(thetas)):\n",
    "            thetas[i] -= (learning_rate / m) * sum((h_x - labels) * features[:, i])\n",
    "        J.append(compute_cost(features=features, labels=labels, parameters=thetas))\n",
    "\n",
    "    return thetas, J\n",
    "\n",
    "\n",
    "def visualize_loss(cost):\n",
    "    plt.plot(cost)\n",
    "    plt.xlabel('Number of iterations')\n",
    "    plt.ylabel('Cost J')\n",
    "    plt.show()\n",
    "\n",
    "\n",
    "def normal_equation(features, labels):\n",
    "    x_T = np.transpose(features)\n",
    "    a = np.linalg.inv(np.dot(x_T, features))\n",
    "    b = np.dot(x_T, labels)\n",
    "    return np.dot(a, b)"
   ]
  },
  {
   "cell_type": "code",
   "execution_count": 3,
   "metadata": {},
   "outputs": [
    {
     "data": {
      "image/png": "[encoded data removed]",
      "text/plain": [
       "<Figure size 432x288 with 1 Axes>"
      ]
     },
     "metadata": {
      "needs_background": "light"
     },
     "output_type": "display_data"
    }
   ],
   "source": [
    "def main():\n",
    "    x, y = get_data_from('ex1data2.txt')\n",
    "    norm_x = normalize_features(x)\n",
    "\n",
    "    epochs = 400\n",
    "    alpha = 0.01\n",
    "    optimized_thetas, J = gradient_descent(features=norm_x, labels=y, epochs=epochs, learning_rate=alpha)\n",
    "    normal_eq_thetas = normal_equation(features=norm_x, labels=y)\n",
    "    visualize_loss(cost=J)\n",
    "\n",
    "\n",
    "if __name__ == '__main__':\n",
    "    main()\n"
   ]
  },
  {
   "cell_type": "code",
   "execution_count": null,
   "metadata": {},
   "outputs": [],
   "source": []
  }
 ],
 "metadata": {
  "kernelspec": {
   "display_name": "Python 3.7 (tensorflow)",
   "language": "python",
   "name": "tensorflow"
  },
  "language_info": {
   "codemirror_mode": {
    "name": "ipython",
    "version": 3
   },
   "file_extension": ".py",
   "mimetype": "text/x-python",
   "name": "python",
   "nbconvert_exporter": "python",
   "pygments_lexer": "ipython3",
   "version": "3.7.9"
  }
 },
 "nbformat": 4,
 "nbformat_minor": 4
}
