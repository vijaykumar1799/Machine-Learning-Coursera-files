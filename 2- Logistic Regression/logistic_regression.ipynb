{
 "cells": [
  {
   "cell_type": "code",
   "execution_count": 1,
   "metadata": {},
   "outputs": [],
   "source": [
    "import numpy as np\n",
    "import matplotlib.pyplot as plt\n",
    "from scipy.optimize import fmin_bfgs\n",
    "%matplotlib inline"
   ]
  },
  {
   "cell_type": "code",
   "execution_count": 2,
   "metadata": {},
   "outputs": [],
   "source": [
    "def load_data(file_path):\n",
    "    # Data is mainly composed of 2 exam grades and decision which is either 0 or 1.\n",
    "    data = np.loadtxt(fname=file_path, delimiter=',')\n",
    "\n",
    "    # Adding Intercept term for x data\n",
    "    X = np.array([np.append(1, row) for row in data[:, :-1]])\n",
    "    Y = np.array(data[:, -1])\n",
    "\n",
    "    return X, Y\n",
    "\n",
    "\n",
    "def display_data(data, labels):\n",
    "    # plotting exam1 vs exam2 grade\n",
    "    positive_indexes = np.where(labels == 1)\n",
    "    negative_indexes = np.where(labels == 0)\n",
    "\n",
    "    plt.plot(data[negative_indexes, 1], data[negative_indexes, 2], 'ro')\n",
    "    plt.plot(data[positive_indexes, 1], data[positive_indexes, 2], 'g+')\n",
    "\n",
    "    plt.xlabel('Exam 1 Score')\n",
    "    plt.ylabel('Exam 2 Score')\n",
    "\n",
    "    plt.show()\n",
    "\n",
    "\n",
    "def standardize_data(data):\n",
    "    mean = np.mean(data, axis=0)\n",
    "    std_deviation = np.std(data, axis=0)\n",
    "\n",
    "    std_data = data.copy()\n",
    "    for row in std_data:\n",
    "        for i in range(len(row)):\n",
    "            if i != 0:\n",
    "                row[i] = (row[i] - mean[i]) / std_deviation[i]\n",
    "\n",
    "    return std_data\n",
    "\n",
    "\n",
    "def sigmoid(z):\n",
    "    return 1 / (1 + np.exp(-z))\n",
    "\n",
    "\n",
    "def compute_cost(parameters, data, labels):\n",
    "    m = len(labels)\n",
    "    h_x = sigmoid(np.dot(data, parameters))\n",
    "    J = np.sum(-labels * np.log(h_x) - (1 - labels) * np.log(1 - h_x)) / m\n",
    "    return J\n",
    "\n",
    "\n",
    "def gradient(parameters, data, labels):\n",
    "    m = len(labels)\n",
    "    h_x = sigmoid(np.dot(data, parameters))\n",
    "    grads = (1 / m) * (h_x - labels).dot(data)\n",
    "    return grads\n",
    "\n",
    "\n",
    "def save_weights(weights):\n",
    "    with open(file='./weights.csv', mode='w') as f:\n",
    "        string_weight = \"\"\n",
    "        for i, theta in enumerate(weights):\n",
    "            if i != 2:\n",
    "                seperator = ','\n",
    "            else:\n",
    "                seperator = '\\n'\n",
    "\n",
    "            string_weight += str(theta) + seperator\n",
    "        f.writelines(string_weight)\n",
    "\n",
    "\n",
    "def visualize_boundary(data, labels, weights):\n",
    "    positive_indexes = np.where(labels == 1)\n",
    "    negative_indexes = np.where(labels == 0)\n",
    "\n",
    "    num_pts = 10\n",
    "    x_pts, y_pts = np.ogrid[min(data[:, 1]):max(data[:, 1]):num_pts * 1j, min(data[:, 2]):max(data[:, 2]):num_pts * 1j]\n",
    "\n",
    "    plt.plot(data[negative_indexes, 1], data[negative_indexes, 2], 'ro')\n",
    "    plt.plot(data[positive_indexes, 1], data[positive_indexes, 2], 'g+')\n",
    "    plt.contour(x_pts.ravel(), y_pts.ravel(), weights[0] + weights[1] * x_pts + weights[2] * y_pts - 0.5, levels=[0])\n",
    "\n",
    "    plt.xlabel('Exam 1 Score')\n",
    "    plt.ylabel('Exam 2 Score')\n",
    "\n",
    "    plt.show()\n",
    "\n",
    "\n",
    "def decision(x):\n",
    "    if x >= 0.5:\n",
    "        return 1\n",
    "    else:\n",
    "        return 0\n",
    "\n",
    "\n",
    "def accuracy(data, labels, weights):\n",
    "    count = 0\n",
    "    predictions = [decision(sigmoid(np.dot(grade, weights))) for grade in data]\n",
    "    for i, pred in enumerate(predictions):\n",
    "        if pred == labels[i]:\n",
    "            count += 1\n",
    "\n",
    "    return (count / len(labels)) * 100.0"
   ]
  },
  {
   "cell_type": "code",
   "execution_count": 3,
   "metadata": {},
   "outputs": [
    {
     "data": {
      "image/png": "[encoded data removed]",
      "text/plain": [
       "<Figure size 432x288 with 1 Axes>"
      ]
     },
     "metadata": {
      "needs_background": "light"
     },
     "output_type": "display_data"
    },
    {
     "name": "stdout",
     "output_type": "stream",
     "text": [
      "Cost at initial theta (zeros): 0.6931471805599453\n",
      "Expected Cost (approx): 0.693\n",
      "Gradient at initial theta (zeros): [ -0.1        -12.00921659 -11.26284221]\n",
      "Expected Gradients (approx): [-0.1000, -12.0092, -11.2628]\n",
      "\n",
      "Cost at test theta: 0.21833019382659774\n",
      "Expected Cost (approx): 0.218\n",
      "Gradient at non-zero theta: [0.04290299 2.56623412 2.64679737]\n",
      "Expected Gradients (approx): [0.043, 2.566, 2.647]\n",
      "Optimized Parameters are: [-25.16133284   0.2062317    0.2014716 ]\n"
     ]
    },
    {
     "name": "stderr",
     "output_type": "stream",
     "text": [
      "C:\\Users\\Vijay\\miniconda3\\envs\\tensorflow\\lib\\site-packages\\ipykernel_launcher.py:46: RuntimeWarning: divide by zero encountered in log\n",
      "C:\\Users\\Vijay\\miniconda3\\envs\\tensorflow\\lib\\site-packages\\ipykernel_launcher.py:46: RuntimeWarning: invalid value encountered in multiply\n"
     ]
    },
    {
     "data": {
      "image/png": "[encoded data removed]",
      "text/plain": [
       "<Figure size 432x288 with 1 Axes>"
      ]
     },
     "metadata": {
      "needs_background": "light"
     },
     "output_type": "display_data"
    },
    {
     "name": "stdout",
     "output_type": "stream",
     "text": [
      "For Student with scores 45 and 85, we predict probability of: 0.7762907240588942,   Expected: 0.775 +/- 0.002\n",
      "\n",
      "Logistic Regression Model Accuracy: 89.0\n"
     ]
    }
   ],
   "source": [
    "def main():\n",
    "    x, y = load_data(file_path='./ex2data1.txt')\n",
    "    display_data(data=x, labels=y)\n",
    "    x_std = standardize_data(data=x.copy())\n",
    "\n",
    "    init_theta = np.zeros(shape=x[0, :].shape, dtype=np.float32)\n",
    "\n",
    "    # Computing and displaying initial cost and gradient\n",
    "    cost = compute_cost(data=x, labels=y, parameters=init_theta)\n",
    "    grads = gradient(data=x, labels=y, parameters=init_theta)\n",
    "    print(f\"Cost at initial theta (zeros): {cost}\")\n",
    "    print(f\"Expected Cost (approx): 0.693\")\n",
    "    print(f\"Gradient at initial theta (zeros): {grads}\")\n",
    "    print(f\"Expected Gradients (approx): [-0.1000, -12.0092, -11.2628]\")\n",
    "\n",
    "    # Computing Cost and gradients with non-zero thetas\n",
    "    test_theta = np.array([-24, 0.2, 0.2])\n",
    "    cost = compute_cost(data=x, labels=y, parameters=test_theta)\n",
    "    grads = gradient(data=x, labels=y, parameters=test_theta)\n",
    "    print(f\"\\nCost at test theta: {cost}\")\n",
    "    print(f\"Expected Cost (approx): 0.218\")\n",
    "    print(f\"Gradient at non-zero theta: {grads}\")\n",
    "    print(f\"Expected Gradients (approx): [0.043, 2.566, 2.647]\")\n",
    "\n",
    "    # Optimizing Thetas\n",
    "    theta, theta_i = fmin_bfgs(compute_cost, init_theta, fprime=gradient, args=(x, y), retall=1, disp=0)\n",
    "\n",
    "    J = np.zeros(len(theta_i))\n",
    "    for i, th in enumerate(theta_i):\n",
    "        J[i] = compute_cost(parameters=th, data=x, labels=y)\n",
    "\n",
    "    print('Optimized Parameters are: {}'.format(theta))\n",
    "    save_weights(theta)\n",
    "\n",
    "    visualize_boundary(x, y, theta)\n",
    "\n",
    "    test = sigmoid(np.dot([1, 45, 85], theta))\n",
    "    print(\"For Student with scores 45 and 85, we predict probability of: {},   Expected: 0.775 +/- 0.002\\n\".format(test))\n",
    "\n",
    "    print(\"Logistic Regression Model Accuracy: {}\".format(accuracy(data=x, labels=y, weights=theta)))\n",
    "\n",
    "\n",
    "if __name__ == '__main__':\n",
    "    main()\n"
   ]
  },
  {
   "cell_type": "code",
   "execution_count": null,
   "metadata": {},
   "outputs": [],
   "source": []
  }
 ],
 "metadata": {
  "kernelspec": {
   "display_name": "Python 3.7 (tensorflow)",
   "language": "python",
   "name": "tensorflow"
  },
  "language_info": {
   "codemirror_mode": {
    "name": "ipython",
    "version": 3
   },
   "file_extension": ".py",
   "mimetype": "text/x-python",
   "name": "python",
   "nbconvert_exporter": "python",
   "pygments_lexer": "ipython3",
   "version": "3.7.9"
  }
 },
 "nbformat": 4,
 "nbformat_minor": 4
}
